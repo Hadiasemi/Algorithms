{
 "cells": [
  {
   "cell_type": "code",
   "execution_count": 1,
   "metadata": {},
   "outputs": [],
   "source": [
    "def insertionSort_mod(values):\n",
    "    k = 0\n",
    "    n = len(values) - 1\n",
    "    comparisons = 0\n",
    "    while k+1 <= n:\n",
    "        i = k+1\n",
    "        curr_val = values[i]\n",
    "        comparisons += 1\n",
    "        while i>0 and values[i-1] > curr_val:\n",
    "            values[i] = values[i-1]\n",
    "            i=i-1\n",
    "            comparisons += 1\n",
    "        values[i] = curr_val\n",
    "        k = k + 1\n",
    "    return comparisons, values"
   ]
  },
  {
   "cell_type": "code",
   "execution_count": 2,
   "metadata": {},
   "outputs": [
    {
     "data": {
      "text/plain": [
       "(5, [10, 23, 31, 49])"
      ]
     },
     "execution_count": 2,
     "metadata": {},
     "output_type": "execute_result"
    }
   ],
   "source": [
    "insertionSort_mod([23, 10, 49, 31])"
   ]
  },
  {
   "cell_type": "code",
   "execution_count": 5,
   "metadata": {},
   "outputs": [],
   "source": [
    "def insertionSort(list):\n",
    "    numOfComp = 0\n",
    "    for i in range(1,len(list)):\n",
    "        value = list[i]\n",
    "        j = i - 1\n",
    "        while j>=0:\n",
    "            if value<list[j]:\n",
    "                flag=True\n",
    "            else :\n",
    "                flag=False\n",
    "            numOfComp += 1\n",
    "            if flag:\n",
    "                list[j+1] = list[j]\n",
    "                list[j] = value\n",
    "                j = j - 1\n",
    "            else:\n",
    "                break\n",
    "    return numOfComp"
   ]
  },
  {
   "cell_type": "code",
   "execution_count": 6,
   "metadata": {},
   "outputs": [
    {
     "data": {
      "text/plain": [
       "4"
      ]
     },
     "execution_count": 6,
     "metadata": {},
     "output_type": "execute_result"
    }
   ],
   "source": [
    "insertionSort([23, 10, 49, 31])"
   ]
  },
  {
   "cell_type": "code",
   "execution_count": null,
   "metadata": {},
   "outputs": [],
   "source": []
  }
 ],
 "metadata": {
  "kernelspec": {
   "display_name": "Python 3",
   "language": "python",
   "name": "python3"
  },
  "language_info": {
   "codemirror_mode": {
    "name": "ipython",
    "version": 3
   },
   "file_extension": ".py",
   "mimetype": "text/x-python",
   "name": "python",
   "nbconvert_exporter": "python",
   "pygments_lexer": "ipython3",
   "version": "3.7.6"
  }
 },
 "nbformat": 4,
 "nbformat_minor": 2
}
